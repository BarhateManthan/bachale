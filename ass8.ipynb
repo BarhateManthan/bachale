{
 "cells": [
  {
   "cell_type": "code",
   "execution_count": null,
   "metadata": {},
   "outputs": [],
   "source": [
    "from pyspark.sql import SparkSession\n",
    "spark = SparkSession.builder.appName(\"MatrixMultiplcation\").getOrCreate().sparkContext\n",
    "matrixA = [\n",
    "    (0,0,1),(0,1,2),\n",
    "    (1,0,3),(1,1,4)\n",
    "]\n",
    "matrixB = [\n",
    "    (0,0,1),(0,1,2),\n",
    "    (1,0,3),(1,1,4)\n",
    "]\n",
    "rddA = spark.parallelize(matrixA)\n",
    "rddB = spark.parallelize(matrixB)\n",
    "mappedA = rddA.map(lambda x:(x[1],(x[0],x[2])))\n",
    "mappedB = rddB.map(lambda x:(x[0],(x[1],x[2])))\n",
    "joined = mappedA.join(mappedB)\n",
    "# Joined will have element like common_key k (k,(rowA,valA),(colB,valB))\n",
    "partial_products=joined.map(lambda x:((x[1][0][0], x[1][1][0]), x[1][0][1] * x[1][1][1]))\n",
    "result = partial_products.reduceByKey(lambda x,y:x+y)\n",
    "output = result.collect()\n",
    "for ((row, col), value) in sorted(output):\n",
    "    print(f\"({row}, {col}) -> {value}\")\n",
    "\n",
    "spark.stop()"
   ]
  }
 ],
 "metadata": {
  "kernelspec": {
   "display_name": "venv",
   "language": "python",
   "name": "python3"
  },
  "language_info": {
   "name": "python",
   "version": "3.10.13"
  }
 },
 "nbformat": 4,
 "nbformat_minor": 2
}
