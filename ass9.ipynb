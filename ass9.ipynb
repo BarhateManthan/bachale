{
 "cells": [
  {
   "cell_type": "code",
   "execution_count": 1,
   "metadata": {},
   "outputs": [
    {
     "name": "stderr",
     "output_type": "stream",
     "text": [
      "25/04/22 00:54:03 WARN Utils: Your hostname, manthan resolves to a loopback address: 127.0.1.1; using 192.168.1.9 instead (on interface wlp0s20f3)\n",
      "25/04/22 00:54:03 WARN Utils: Set SPARK_LOCAL_IP if you need to bind to another address\n",
      "Setting default log level to \"WARN\".\n",
      "To adjust logging level use sc.setLogLevel(newLevel). For SparkR, use setLogLevel(newLevel).\n",
      "25/04/22 00:54:03 WARN NativeCodeLoader: Unable to load native-hadoop library for your platform... using builtin-java classes where applicable\n",
      "25/04/22 00:54:04 WARN Utils: Service 'SparkUI' could not bind on port 4040. Attempting port 4041.\n",
      "[Stage 0:>                                                        (0 + 12) / 12]\r"
     ]
    },
    {
     "name": "stdout",
     "output_type": "stream",
     "text": [
      "Station: Station_2, Year: 2025, Day: 2025-01-03, Max Snowfall: 12 inches\n",
      "Station: Station_1, Year: 2025, Day: 2025-01-05, Max Snowfall: 10 inches\n"
     ]
    },
    {
     "name": "stderr",
     "output_type": "stream",
     "text": [
      "                                                                                \r"
     ]
    },
    {
     "name": "stderr",
     "output_type": "stream",
     "text": [
      "25/04/22 00:54:17 WARN GarbageCollectionMetrics: To enable non-built-in garbage collector(s) List(G1 Concurrent GC), users should configure it(them) to spark.eventLog.gcMetrics.youngGenerationGarbageCollectors or spark.eventLog.gcMetrics.oldGenerationGarbageCollectors\n"
     ]
    }
   ],
   "source": [
    "from pyspark import SparkContext\n",
    "\n",
    "# Initialize SparkContext\n",
    "sc = SparkContext(appName=\"WeatherAnalysis\")\n",
    "\n",
    "# Sample data (year, day, station_id, snowfall)\n",
    "data = [\n",
    "    (2025, \"2025-01-01\", \"Station_1\", 5),\n",
    "    (2025, \"2025-01-02\", \"Station_1\", 8),\n",
    "    (2025, \"2025-01-03\", \"Station_2\", 12),\n",
    "    (2025, \"2025-01-04\", \"Station_2\", 3),\n",
    "    (2025, \"2025-01-05\", \"Station_1\", 10)\n",
    "]\n",
    "\n",
    "# Create RDD\n",
    "rdd = sc.parallelize(data)\n",
    "\n",
    "# Create a key based on (station_id, year), value being (day, snowfall)\n",
    "rdd_with_key = rdd.map(lambda x: ((x[2], x[0]), (x[1], x[3])))\n",
    "\n",
    "# Use reduceByKey to find the maximum snowfall in each station-year pair\n",
    "def find_max_snowfall(a, b):\n",
    "    # Compare the snowfall and return the record with the higher snowfall\n",
    "    return a if a[1] > b[1] else b\n",
    "\n",
    "max_snowfall_rdd = rdd_with_key.reduceByKey(find_max_snowfall)\n",
    "\n",
    "# Collect the results\n",
    "result = max_snowfall_rdd.collect()\n",
    "\n",
    "for key, value in result:\n",
    "    print(f\"Station: {key[0]}, Year: {key[1]}, Day: {value[0]}, Max Snowfall: {value[1]} inches\")\n",
    "\n"
   ]
  },
  {
   "cell_type": "code",
   "execution_count": null,
   "metadata": {},
   "outputs": [],
   "source": []
  }
 ],
 "metadata": {
  "kernelspec": {
   "display_name": "venv",
   "language": "python",
   "name": "python3"
  },
  "language_info": {
   "codemirror_mode": {
    "name": "ipython",
    "version": 3
   },
   "file_extension": ".py",
   "mimetype": "text/x-python",
   "name": "python",
   "nbconvert_exporter": "python",
   "pygments_lexer": "ipython3",
   "version": "3.10.13"
  }
 },
 "nbformat": 4,
 "nbformat_minor": 2
}
