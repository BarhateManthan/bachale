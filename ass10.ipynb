{
 "cells": [
  {
   "cell_type": "code",
   "execution_count": 1,
   "metadata": {},
   "outputs": [
    {
     "name": "stderr",
     "output_type": "stream",
     "text": [
      "25/04/22 00:54:47 WARN Utils: Your hostname, manthan resolves to a loopback address: 127.0.1.1; using 192.168.1.9 instead (on interface wlp0s20f3)\n",
      "25/04/22 00:54:47 WARN Utils: Set SPARK_LOCAL_IP if you need to bind to another address\n",
      "Setting default log level to \"WARN\".\n",
      "To adjust logging level use sc.setLogLevel(newLevel). For SparkR, use setLogLevel(newLevel).\n",
      "25/04/22 00:54:48 WARN NativeCodeLoader: Unable to load native-hadoop library for your platform... using builtin-java classes where applicable\n",
      "25/04/22 00:54:48 WARN Utils: Service 'SparkUI' could not bind on port 4040. Attempting port 4041.\n",
      "25/04/22 00:54:48 WARN Utils: Service 'SparkUI' could not bind on port 4041. Attempting port 4042.\n",
      "[Stage 0:=============================>                            (6 + 6) / 12]\r"
     ]
    },
    {
     "name": "stdout",
     "output_type": "stream",
     "text": [
      "Movie ID: 1, Average Rating: 3.50\n",
      "Movie ID: 2, Average Rating: 4.75\n",
      "Movie ID: 3, Average Rating: 2.50\n"
     ]
    },
    {
     "name": "stderr",
     "output_type": "stream",
     "text": [
      "                                                                                \r"
     ]
    },
    {
     "name": "stderr",
     "output_type": "stream",
     "text": [
      "25/04/22 00:55:00 WARN GarbageCollectionMetrics: To enable non-built-in garbage collector(s) List(G1 Concurrent GC), users should configure it(them) to spark.eventLog.gcMetrics.youngGenerationGarbageCollectors or spark.eventLog.gcMetrics.oldGenerationGarbageCollectors\n"
     ]
    }
   ],
   "source": [
    "from pyspark import SparkContext\n",
    "\n",
    "# Initialize SparkContext\n",
    "sc = SparkContext(appName=\"MovieRatingAnalysis\")\n",
    "\n",
    "# Sample movie ratings data (movie_id, user_id, rating, timestamp)\n",
    "data = [\n",
    "    (1, 1, 3.5, 1612300000),\n",
    "    (1, 2, 4.0, 1612301000),\n",
    "    (1, 3, 3.0, 1612302000),\n",
    "    (2, 1, 5.0, 1612303000),\n",
    "    (2, 2, 4.5, 1612304000),\n",
    "    (3, 1, 2.5, 1612305000)\n",
    "]\n",
    "\n",
    "# Create RDD\n",
    "rdd = sc.parallelize(data)\n",
    "\n",
    "# Map to create (movie_id, (rating, count)) tuples\n",
    "rdd_with_key = rdd.map(lambda x: (x[0], (x[2], 1)))\n",
    "\n",
    "# Use reduceByKey to sum the ratings and count the occurrences for each movie\n",
    "def sum_ratings(a, b):\n",
    "    # (sum of ratings, count of ratings)\n",
    "    return (a[0] + b[0], a[1] + b[1])\n",
    "\n",
    "# Apply reduceByKey\n",
    "ratings_sum_rdd = rdd_with_key.reduceByKey(sum_ratings)\n",
    "\n",
    "# Calculate average rating for each movie\n",
    "average_ratings_rdd = ratings_sum_rdd.mapValues(lambda x: x[0] / x[1])\n",
    "\n",
    "# Collect the results\n",
    "result = average_ratings_rdd.collect()\n",
    "\n",
    "for movie_id, avg_rating in result:\n",
    "    print(f\"Movie ID: {movie_id}, Average Rating: {avg_rating:.2f}\")\n"
   ]
  },
  {
   "cell_type": "code",
   "execution_count": null,
   "metadata": {},
   "outputs": [],
   "source": []
  }
 ],
 "metadata": {
  "kernelspec": {
   "display_name": "venv",
   "language": "python",
   "name": "python3"
  },
  "language_info": {
   "codemirror_mode": {
    "name": "ipython",
    "version": 3
   },
   "file_extension": ".py",
   "mimetype": "text/x-python",
   "name": "python",
   "nbconvert_exporter": "python",
   "pygments_lexer": "ipython3",
   "version": "3.10.13"
  }
 },
 "nbformat": 4,
 "nbformat_minor": 2
}
