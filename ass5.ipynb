{
 "cells": [
  {
   "cell_type": "code",
   "execution_count": 33,
   "metadata": {},
   "outputs": [
    {
     "name": "stderr",
     "output_type": "stream",
     "text": [
      "25/04/22 00:40:18 WARN Utils: Service 'SparkUI' could not bind on port 4040. Attempting port 4041.\n"
     ]
    },
    {
     "name": "stdout",
     "output_type": "stream",
     "text": [
      "Training Logistic Regression in pipeline...\n"
     ]
    },
    {
     "name": "stderr",
     "output_type": "stream",
     "text": [
      "                                                                                \r"
     ]
    },
    {
     "name": "stdout",
     "output_type": "stream",
     "text": [
      "Logistic Regression Accuracy: 0.8582\n",
      "Logistic Regression F1 Score: 0.8512\n",
      "+------+----------+------+----------+-----------------------------------------+\n",
      "|ticker|date      |TARGET|prediction|probability                              |\n",
      "+------+----------+------+----------+-----------------------------------------+\n",
      "|ASLE  |2022-02-03|1     |1.0       |[0.05317952389027442,0.9468204761097255] |\n",
      "|ASLE  |2022-02-09|1     |1.0       |[0.33327364580496965,0.6667263541950303] |\n",
      "|ASLE  |2022-02-11|0     |0.0       |[0.7317741957386764,0.2682258042613236]  |\n",
      "|ASLE  |2022-02-18|0     |0.0       |[0.7918584667981663,0.2081415332018337]  |\n",
      "|ASLE  |2022-03-01|0     |0.0       |[0.8615387022954036,0.13846129770459636] |\n",
      "|ASLE  |2022-03-07|0     |0.0       |[0.9484394281259682,0.051560571874031846]|\n",
      "|ASLE  |2022-03-15|1     |1.0       |[0.35170814674072587,0.6482918532592741] |\n",
      "|ASLE  |2022-03-23|0     |0.0       |[0.9065418199495142,0.09345818005048578] |\n",
      "|ASLE  |2022-04-06|0     |0.0       |[0.8790631010537797,0.12093689894622028] |\n",
      "|ASLE  |2022-04-07|0     |0.0       |[0.9240815140563295,0.07591848594367046] |\n",
      "+------+----------+------+----------+-----------------------------------------+\n",
      "only showing top 10 rows\n",
      "\n"
     ]
    }
   ],
   "source": [
    "# path = r\"/home/mb/college/bda/BDA/datasets/StockMarket.csv\"\n",
    "\n",
    "# import pandas as pd\n",
    "\n",
    "# df = pd.read_csv(path)\n",
    "\n",
    "# print(df.shape)\n",
    "\n",
    "# df.fillna(df.mean(numeric_only=True), inplace=True)\n",
    "\n",
    "# print(df.shape)\n",
    "\n",
    "# df.dropna(inplace=True)\n",
    "\n",
    "# print(df.shape)\n",
    "\n",
    "# for col in df.columns:\n",
    "#     print(col, end=\", \")\n",
    "\n",
    "# df.to_csv(\"StockMarket_filled.csv\", index=False)\n",
    "\n",
    "\n",
    "from pyspark.sql import SparkSession\n",
    "from pyspark.sql.functions import col, avg as spark_avg\n",
    "from pyspark.sql.window import Window\n",
    "from pyspark.ml import Pipeline\n",
    "from pyspark.ml.feature import (\n",
    "    StringIndexer, VectorAssembler, StandardScaler\n",
    ")\n",
    "from pyspark.ml.classification import LogisticRegression\n",
    "from pyspark.ml.evaluation import MulticlassClassificationEvaluator\n",
    "\n",
    "# Start SparkSession\n",
    "spark = SparkSession.builder.appName(\"StockMarketPrediction\").getOrCreate()\n",
    "\n",
    "# Load and clean data\n",
    "df = spark.read.csv(\"/home/mb/college/bda/BDA/yes-daddy/StockMarket_filled.csv\", header=True, inferSchema=True)\n",
    "df = df.dropna()\n",
    "\n",
    "# Moving Averages\n",
    "windowSpec = Window.partitionBy(\"ticker\").orderBy(\"date\").rowsBetween(-4, 0)\n",
    "ma_columns = [\"open\", \"close\", \"volume\", \"INCREMENTO\", \"diff\"]\n",
    "for col_name in ma_columns:\n",
    "    df = df.withColumn(f\"MovingAvg{col_name}\", spark_avg(col_name).over(windowSpec))\n",
    "\n",
    "# Feature list\n",
    "features = [\n",
    "    'open', 'high', 'low', 'close', 'adjclose', 'volume',\n",
    "    'RSIadjclose15', 'RSIvolume15', 'RSIadjclose25', 'RSIvolume25',\n",
    "    'RSIadjclose50', 'RSIvolume50', 'MACDadjclose15', 'MACDvolume15',\n",
    "    'MACDadjclose25', 'MACDvolume25', 'MACDadjclose50', 'MACDvolume50',\n",
    "    'MovingAvgopen', 'MovingAvgclose', 'MovingAvgvolume',\n",
    "    'MovingAvgINCREMENTO', 'MovingAvgdiff'\n",
    "]\n",
    "\n",
    "# Index categorical column\n",
    "indexer = StringIndexer(inputCol=\"ticker\", outputCol=\"tickerIndex\", handleInvalid=\"skip\")\n",
    "\n",
    "# Add to features\n",
    "features.append(\"tickerIndex\")\n",
    "\n",
    "# Assemble features into vector\n",
    "assembler = VectorAssembler(inputCols=features, outputCol=\"features\")\n",
    "\n",
    "# Scale features\n",
    "scaler = StandardScaler(inputCol=\"features\", outputCol=\"scaledFeatures\", withStd=True, withMean=True)\n",
    "\n",
    "# Model\n",
    "lr = LogisticRegression(featuresCol=\"scaledFeatures\", labelCol=\"TARGET\", maxIter=10)\n",
    "\n",
    "# Pipeline\n",
    "pipeline = Pipeline(stages=[indexer, assembler, scaler, lr])\n",
    "\n",
    "# Split data\n",
    "train_data, test_data = df.randomSplit([0.8, 0.2], seed=42)\n",
    "\n",
    "# Train model\n",
    "print(\"Training Logistic Regression in pipeline...\")\n",
    "model = pipeline.fit(train_data)\n",
    "\n",
    "# Predict\n",
    "predictions = model.transform(test_data)\n",
    "\n",
    "# Evaluation\n",
    "evaluator = MulticlassClassificationEvaluator(labelCol=\"TARGET\", predictionCol=\"prediction\", metricName=\"accuracy\")\n",
    "accuracy = evaluator.evaluate(predictions)\n",
    "print(f\"Logistic Regression Accuracy: {accuracy:.4f}\")\n",
    "\n",
    "# F1 Score\n",
    "evaluator.setMetricName(\"f1\")\n",
    "f1_score = evaluator.evaluate(predictions)\n",
    "print(f\"Logistic Regression F1 Score: {f1_score:.4f}\")\n",
    "\n",
    "predictions.select(\"ticker\", \"date\", \"TARGET\", \"prediction\", \"probability\").show(10, truncate=False)\n",
    "\n",
    "\n",
    "# Stop Spark\n",
    "spark.stop()\n"
   ]
  },
  {
   "cell_type": "code",
   "execution_count": null,
   "metadata": {},
   "outputs": [],
   "source": []
  }
 ],
 "metadata": {
  "kernelspec": {
   "display_name": "venv",
   "language": "python",
   "name": "python3"
  },
  "language_info": {
   "codemirror_mode": {
    "name": "ipython",
    "version": 3
   },
   "file_extension": ".py",
   "mimetype": "text/x-python",
   "name": "python",
   "nbconvert_exporter": "python",
   "pygments_lexer": "ipython3",
   "version": "3.10.13"
  }
 },
 "nbformat": 4,
 "nbformat_minor": 2
}
