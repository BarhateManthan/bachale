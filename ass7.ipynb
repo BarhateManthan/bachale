{
 "cells": [
  {
   "cell_type": "code",
   "execution_count": null,
   "metadata": {},
   "outputs": [],
   "source": [
    "from pyspark import SparkContext\n",
    "\n",
    "sc = SparkContext(\"local\", \"WordCount\")   # host, appName\n",
    "\n",
    "# Load the text file\n",
    "rdd = sc.textFile(\"/home/mb/college/bda/BDA/Past/lines.csv\")\n",
    "\n",
    "# Perform word count\n",
    "word_counts = (\n",
    "    rdd.flatMap(lambda line: line.split())\n",
    "       .map(lambda word: (word, 1))\n",
    "       .reduceByKey(lambda a, b: a + b)\n",
    ")\n",
    "\n",
    "# Output the result\n",
    "print(word_counts.collect())\n",
    "\n"
   ]
  }
 ],
 "metadata": {
  "kernelspec": {
   "display_name": "venv",
   "language": "python",
   "name": "python3"
  },
  "language_info": {
   "name": "python",
   "version": "3.10.13"
  }
 },
 "nbformat": 4,
 "nbformat_minor": 2
}
