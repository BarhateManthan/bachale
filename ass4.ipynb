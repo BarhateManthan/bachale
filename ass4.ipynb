{
 "cells": [
  {
   "cell_type": "code",
   "execution_count": null,
   "metadata": {},
   "outputs": [
    {
     "name": "stderr",
     "output_type": "stream",
     "text": [
      "25/04/21 23:12:06 WARN Utils: Your hostname, manthan resolves to a loopback address: 127.0.1.1; using 192.168.1.9 instead (on interface wlp0s20f3)\n",
      "25/04/21 23:12:06 WARN Utils: Set SPARK_LOCAL_IP if you need to bind to another address\n",
      "Setting default log level to \"WARN\".\n",
      "To adjust logging level use sc.setLogLevel(newLevel). For SparkR, use setLogLevel(newLevel).\n",
      "25/04/21 23:12:06 WARN NativeCodeLoader: Unable to load native-hadoop library for your platform... using builtin-java classes where applicable\n",
      "25/04/21 23:12:13 WARN InstanceBuilder: Failed to load implementation from:dev.ludovic.netlib.blas.VectorBLAS\n"
     ]
    },
    {
     "name": "stdout",
     "output_type": "stream",
     "text": [
      "+---+-----+--------------------+--------------------+--------------------+--------------------+--------------------+--------------------+--------------------+----------+\n",
      "| id|label|               tweet|               words|      filtered_words|           term_freq|                 idf|       rawPrediction|         probability|prediction|\n",
      "+---+-----+--------------------+--------------------+--------------------+--------------------+--------------------+--------------------+--------------------+----------+\n",
      "|  3|    0|  bihday your maj...|[, , bihday, your...|[, , bihday, maje...|(5000,[2449,3372,...|(5000,[2449,3372,...|[179.740073872864...|           [1.0,0.0]|       0.0|\n",
      "|  7|    0| @user camping to...|[, @user, camping...|[, @user, camping...|(5000,[1375,1883,...|(5000,[1375,1883,...|[104.927817335110...|           [1.0,0.0]|       0.0|\n",
      "|  9|    0|we won!!! love th...|[we, won!!!, love...|[won!!!, love, la...|(5000,[254,374,82...|(5000,[254,374,82...|[155.529059254670...|           [1.0,0.0]|       0.0|\n",
      "| 14|    1|@user #cnn calls ...|[@user, #cnn, cal...|[@user, #cnn, cal...|(5000,[138,432,13...|(5000,[138,432,13...|[-21.662281800727...|[3.91012416333534...|       1.0|\n",
      "| 20|    0|as we all know, e...|[as, we, all, kno...|[know,, essential...|(5000,[188,231,12...|(5000,[188,231,12...|[-79.364084270111...|[3.40891474717362...|       1.0|\n",
      "| 24|    1|@user @user lumpy...|[@user, @user, lu...|[@user, @user, lu...|(5000,[214,1375,1...|(5000,[214,1375,1...|[77.0468880486769...|           [1.0,0.0]|       0.0|\n",
      "| 30|    0|50 people went to...|[50, people, went...|[50, people, went...|(5000,[102,931,11...|(5000,[102,931,11...|[295.481900410998...|           [1.0,0.0]|       0.0|\n",
      "| 36|    0|#taylorswift1989 ...|[#taylorswift1989...|[#taylorswift1989...|(5000,[22,573,945...|(5000,[22,573,945...|[188.685838309482...|           [1.0,0.0]|       0.0|\n",
      "| 46|    0|i am amazing. #i_...|[i, am, amazing.,...|[amazing., #i_am,...|(5000,[1598,3844,...|(5000,[1598,3844,...|[140.077196906145...|           [1.0,0.0]|       0.0|\n",
      "| 47|    0|#model   i love u...|[#model, , , i, l...|[#model, , , love...|(5000,[43,648,855...|(5000,[43,648,855...|[71.2001274974464...|           [1.0,0.0]|       0.0|\n",
      "| 48|    0|#whenever im   an...|[#whenever, im, ,...|[#whenever, im, ,...|(5000,[620,1929,3...|(5000,[620,1929,3...|[261.202562579807...|           [1.0,0.0]|       0.0|\n",
      "| 50|    0|the best pa about...|[the, best, pa, a...|[best, pa, life, ...|(5000,[419,763,86...|(5000,[419,763,86...|[47.1288704276437...|           [1.0,0.0]|       0.0|\n",
      "| 52|    0|for her #bihday w...|[for, her, #bihda...|[#bihday, got, #n...|(5000,[1010,1240,...|(5000,[1010,1240,...|[324.371958342518...|           [1.0,0.0]|       0.0|\n",
      "| 56|    0|a scourge on thos...|[a, scourge, on, ...|[scourge, playing...|(5000,[499,615,23...|(5000,[499,615,23...|[101.378687667650...|           [1.0,0.0]|       0.0|\n",
      "| 63|    0|we are ready to d...|[we, are, ready, ...|[ready, dance, #r...|(5000,[1285,1557,...|(5000,[1285,1557,...|[30.0687889260756...|[0.99999999999991...|       0.0|\n",
      "| 70|    0|good morning! the...|[good, morning!, ...|[good, morning!, ...|(5000,[845,1168,1...|(5000,[845,1168,1...|[273.300737138050...|           [1.0,0.0]|       0.0|\n",
      "| 78|    1|@user hey, white ...|[@user, hey,, whi...|[@user, hey,, whi...|(5000,[146,843,13...|(5000,[146,843,13...|[-213.48235119154...|[1.93104722019215...|       1.0|\n",
      "|101|    0|there are some tr...|[there, are, some...|[truly, sick, ppl...|(5000,[804,3112,3...|(5000,[804,3112,3...|[61.4956770375239...|           [1.0,0.0]|       0.0|\n",
      "|113|    0|one of my beloved...|[one, of, my, bel...|[one, beloved, lo...|(5000,[815,1233,1...|(5000,[815,1233,1...|[251.842343722975...|           [1.0,0.0]|       0.0|\n",
      "|117|    0|100 amazing healt...|[100, amazing, he...|[100, amazing, he...|(5000,[44,233,243...|(5000,[44,233,243...|[204.659345848310...|           [1.0,0.0]|       0.0|\n",
      "+---+-----+--------------------+--------------------+--------------------+--------------------+--------------------+--------------------+--------------------+----------+\n",
      "only showing top 20 rows\n",
      "\n",
      "Model Accuracy: 0.9085\n"
     ]
    }
   ],
   "source": [
    "path = r\"/home/mb/college/bda/BDA/datasets/twitter.csv\"\n",
    "\n",
    "from pyspark.sql import SparkSession\n",
    "from pyspark.ml import Pipeline\n",
    "from pyspark.ml.feature import Tokenizer, StopWordsRemover, HashingTF, IDF\n",
    "from pyspark.ml.classification import LogisticRegression\n",
    "from pyspark.ml.evaluation import MulticlassClassificationEvaluator\n",
    "from pyspark.sql.functions import when, col\n",
    "\n",
    "spark = SparkSession.builder.appName(\"Twitter Sentiment Analysis\").getOrCreate()\n",
    "\n",
    "df = spark.read.csv(path, inferSchema=True, header=True)\n",
    "\n",
    "# df.show()\n",
    "\n",
    "# df.select(\"label\").distinct().show()\n",
    "\n",
    "df = df.filter(col(\"tweet\").isNotNull()).filter(col(\"label\").isNotNull())\n",
    "\n",
    "# df.show()\n",
    "\n",
    "tokenizer = Tokenizer(inputCol=\"tweet\", outputCol=\"words\")\n",
    "remover = StopWordsRemover(inputCol=\"words\", outputCol=\"filtered_words\")\n",
    "hashingTF = HashingTF(inputCol=\"filtered_words\", outputCol=\"term_freq\", numFeatures=5000)\n",
    "idf = IDF(inputCol=\"term_freq\", outputCol=\"idf\")\n",
    "lr = LogisticRegression(featuresCol=\"idf\", labelCol=\"label\")\n",
    "\n",
    "pipeline = Pipeline(stages=[tokenizer, remover, hashingTF, idf, lr])\n",
    "\n",
    "train, test = df.randomSplit([0.8, 0.2], seed=42)\n",
    "\n",
    "model = pipeline.fit(train)\n",
    "\n",
    "predictions = model.transform(test)\n",
    "\n",
    "predictions.show()\n",
    "\n",
    "\n",
    "\n",
    "evaluator = MulticlassClassificationEvaluator(\n",
    "    labelCol=\"label\", predictionCol=\"prediction\", metricName=\"accuracy\"\n",
    ")\n",
    "accuracy = evaluator.evaluate(predictions)\n",
    "print(f\"Model Accuracy: {accuracy:.4f}\")\n",
    "\n",
    "spark.stop()"
   ]
  },
  {
   "cell_type": "code",
   "execution_count": null,
   "metadata": {},
   "outputs": [],
   "source": []
  }
 ],
 "metadata": {
  "kernelspec": {
   "display_name": "venv",
   "language": "python",
   "name": "python3"
  },
  "language_info": {
   "codemirror_mode": {
    "name": "ipython",
    "version": 3
   },
   "file_extension": ".py",
   "mimetype": "text/x-python",
   "name": "python",
   "nbconvert_exporter": "python",
   "pygments_lexer": "ipython3",
   "version": "3.10.13"
  }
 },
 "nbformat": 4,
 "nbformat_minor": 2
}
